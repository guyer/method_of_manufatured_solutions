{
 "cells": [
  {
   "cell_type": "markdown",
   "metadata": {},
   "source": [
    "Manufactured Solution experiment based on SAND2000 - 1444"
   ]
  },
  {
   "cell_type": "markdown",
   "metadata": {},
   "source": [
    "Test based on heat flux example in SAND2000 - 1444 Section 3"
   ]
  },
  {
   "cell_type": "code",
   "execution_count": 1,
   "metadata": {
    "collapsed": true
   },
   "outputs": [],
   "source": [
    "%matplotlib inline"
   ]
  },
  {
   "cell_type": "code",
   "execution_count": 2,
   "metadata": {
    "collapsed": true
   },
   "outputs": [],
   "source": [
    "import fipy as fp"
   ]
  },
  {
   "cell_type": "code",
   "execution_count": 3,
   "metadata": {
    "collapsed": true
   },
   "outputs": [],
   "source": [
    "from sympy import symbols, sin, exp, sqrt, init_printing"
   ]
  },
  {
   "cell_type": "code",
   "execution_count": 4,
   "metadata": {
    "collapsed": true
   },
   "outputs": [],
   "source": [
    "from sympy import diff, simplify, Eq, lambdify"
   ]
  },
  {
   "cell_type": "code",
   "execution_count": 5,
   "metadata": {
    "collapsed": true
   },
   "outputs": [],
   "source": [
    "init_printing(use_unicode=True)"
   ]
  },
  {
   "cell_type": "code",
   "execution_count": 6,
   "metadata": {
    "collapsed": true
   },
   "outputs": [],
   "source": [
    "x, y, t = symbols('x y t')"
   ]
  },
  {
   "cell_type": "markdown",
   "metadata": {},
   "source": [
    "# symbolic form"
   ]
  },
  {
   "cell_type": "code",
   "execution_count": 7,
   "metadata": {
    "collapsed": true
   },
   "outputs": [],
   "source": [
    "T0, R, t0, k0, rho0, Cp0 = symbols('T0 R t0 k0 rho0 Cp0')"
   ]
  },
  {
   "cell_type": "code",
   "execution_count": 8,
   "metadata": {
    "collapsed": false
   },
   "outputs": [],
   "source": [
    "T_sym = T0 * (1 + sin(x/R)**2 * sin(2*y/R)**2) * exp(t*(t0-t)/t0)"
   ]
  },
  {
   "cell_type": "code",
   "execution_count": 9,
   "metadata": {
    "collapsed": true
   },
   "outputs": [],
   "source": [
    "k_sym = k0 "
   ]
  },
  {
   "cell_type": "code",
   "execution_count": 10,
   "metadata": {
    "collapsed": true
   },
   "outputs": [],
   "source": [
    "rho_sym = rho0 "
   ]
  },
  {
   "cell_type": "code",
   "execution_count": 11,
   "metadata": {
    "collapsed": true
   },
   "outputs": [],
   "source": [
    "Cp_sym = Cp0 "
   ]
  },
  {
   "cell_type": "code",
   "execution_count": 12,
   "metadata": {
    "collapsed": false
   },
   "outputs": [],
   "source": [
    "g_sym = \\\n",
    "simplify(diff(Cp_sym * rho_sym * T_sym, t)\n",
    "         - diff(k_sym * diff(T_sym, x), x) \n",
    "         - diff(k_sym * diff(T_sym, y), y))"
   ]
  },
  {
   "cell_type": "code",
   "execution_count": 13,
   "metadata": {
    "collapsed": false
   },
   "outputs": [
    {
     "data": {
      "text/plain": [
       "T0*(-Cp0*R**2*rho0*(2*t - t0)*(sin(x/R)**2*sin(2*y/R)**2 + 1) + 2*k0*t0*(5*sin(x/R)**2*sin(2*y/R)**2 - 4*sin(x/R)**2*cos(2*y/R)**2 - sin(2*y/R)**2*cos(x/R)**2))*exp(-t*(t - t0)/t0)/(R**2*t0)"
      ]
     },
     "execution_count": 13,
     "metadata": {},
     "output_type": "execute_result"
    }
   ],
   "source": [
    "g_sym"
   ]
  },
  {
   "cell_type": "markdown",
   "metadata": {},
   "source": [
    "# substitute coefficient values"
   ]
  },
  {
   "cell_type": "code",
   "execution_count": 14,
   "metadata": {
    "collapsed": true
   },
   "outputs": [],
   "source": [
    "subs = [(R, 3.33), (T0, 100), (Cp0, 1), (rho0, 0), (k0, 1), (t0, 1)]"
   ]
  },
  {
   "cell_type": "code",
   "execution_count": 15,
   "metadata": {
    "collapsed": true
   },
   "outputs": [],
   "source": [
    "g_sub, T_sub, k_sub, rho_sub, Cp_sub = [sym.subs(subs) for sym in (g_sym, T_sym, k_sym, rho_sym, Cp_sym)]"
   ]
  },
  {
   "cell_type": "markdown",
   "metadata": {},
   "source": [
    "# generate FiPy lambda functions"
   ]
  },
  {
   "cell_type": "code",
   "execution_count": 16,
   "metadata": {
    "collapsed": false
   },
   "outputs": [],
   "source": [
    "g_fp, T_fp, k_fp, rho_fp, Cp_fp = [lambdify((x, y, t), sub, modules=fp.numerix) for sub in (g_sub, T_sub, k_sub, rho_sub, Cp_sub)]"
   ]
  },
  {
   "cell_type": "markdown",
   "metadata": {},
   "source": [
    "# order in space"
   ]
  },
  {
   "cell_type": "code",
   "execution_count": null,
   "metadata": {
    "collapsed": true
   },
   "outputs": [],
   "source": [
    "factor = 2."
   ]
  },
  {
   "cell_type": "code",
   "execution_count": 23,
   "metadata": {
    "collapsed": true
   },
   "outputs": [],
   "source": [
    "grid_spacing = 1. * factor**fp.numerix.arange(0, -4, -1)"
   ]
  },
  {
   "cell_type": "code",
   "execution_count": 24,
   "metadata": {
    "collapsed": true
   },
   "outputs": [],
   "source": [
    "Terror2 = []\n",
    "TerrorINF = []"
   ]
  },
  {
   "cell_type": "code",
   "execution_count": 26,
   "metadata": {
    "collapsed": false
   },
   "outputs": [
    {
     "name": "stdout",
     "output_type": "stream",
     "text": [
      "1.0 0.503817557173 1.41167634586\n",
      "0.5 0.120475931053 0.384879487428\n",
      "0.25 0.0297926992543 0.0991875819048\n",
      "0.125 0.00742806245874 0.0251614542358\n"
     ]
    }
   ],
   "source": [
    "for dx in grid_spacing:\n",
    "    mesh = fp.Grid2D(Lx=10., dx=dx, Ly=20., dy=dx)\n",
    "    xx, yy = mesh.cellCenters[0], mesh.cellCenters[1]\n",
    "    XX, YY = mesh.faceCenters[0], mesh.faceCenters[1]\n",
    "\n",
    "    time = fp.Variable(name=\"$t$\", value=0.)\n",
    "\n",
    "    T = fp.CellVariable(mesh=mesh, name=\"$T$\", hasOld=True)\n",
    "    T.value = T_fp(xx, yy, 0.)*0.01\n",
    "    T.constrain(T_fp(XX, YY, time), where=mesh.exteriorFaces)\n",
    "    \n",
    "    eq = (fp.DiffusionTerm(coeff=k_fp(XX, YY, time)) + g_fp(xx, yy, time)\n",
    "          == fp.TransientTerm(coeff=rho_fp(xx, yy, time) * Cp_fp(xx, yy, time)))\n",
    "    \n",
    "    dt = 0.1\n",
    "    \n",
    "    while time.value <= 2.0:\n",
    "        T.updateOld()\n",
    "        eq.solve(var=T, dt=dt)\n",
    "        time.value = time() + dt\n",
    "        \n",
    "    dT = T - T_fp(xx, yy, time - dt)\n",
    "    \n",
    "    Terror2.append(fp.numerix.L2norm(dT * mesh.cellVolumes) / fp.numerix.L2norm(mesh.cellVolumes))\n",
    "    TerrorINF.append(fp.numerix.LINFnorm(dT))\n",
    "    \n",
    "    print dx, Terror2[-1], TerrorINF[-1]"
   ]
  },
  {
   "cell_type": "code",
   "execution_count": 27,
   "metadata": {
    "collapsed": true
   },
   "outputs": [],
   "source": [
    "from matplotlib import pyplot as plt"
   ]
  },
  {
   "cell_type": "code",
   "execution_count": 28,
   "metadata": {
    "collapsed": false
   },
   "outputs": [
    {
     "data": {
      "text/plain": [
       "[<matplotlib.lines.Line2D at 0x10b5948d0>,\n",
       " <matplotlib.lines.Line2D at 0x10b594450>]"
      ]
     },
     "execution_count": 28,
     "metadata": {},
     "output_type": "execute_result"
    },
    {
     "data": {
      "image/png": "[encoded data removed]",
      "text/plain": [
       "<matplotlib.figure.Figure at 0x10b594810>"
      ]
     },
     "metadata": {},
     "output_type": "display_data"
    }
   ],
   "source": [
    "plt.loglog(grid_spacing, Terror2, grid_spacing, TerrorINF)"
   ]
  },
  {
   "cell_type": "code",
   "execution_count": 29,
   "metadata": {
    "collapsed": true
   },
   "outputs": [],
   "source": [
    "Terror2 = fp.numerix.array(Terror2)\n",
    "TerrorINF = fp.numerix.array(TerrorINF)"
   ]
  },
  {
   "cell_type": "code",
   "execution_count": 33,
   "metadata": {
    "collapsed": false
   },
   "outputs": [
    {
     "data": {
      "text/plain": [
       "array([ 0.06415645,  0.01571421,  0.00390099])"
      ]
     },
     "execution_count": 33,
     "metadata": {},
     "output_type": "execute_result"
    }
   ],
   "source": [
    "fp.numerix.log(Terror2[:-1] / Terror2[1:]) / fp.numerix.log(factor) - 2."
   ]
  },
  {
   "cell_type": "code",
   "execution_count": null,
   "metadata": {
    "collapsed": true
   },
   "outputs": [],
   "source": [
    "fp.numerix.log(TerrorINF[:-1] / TerrorINF[1:]) / fp.numerix.log(factor) - 2."
   ]
  },
  {
   "cell_type": "markdown",
   "metadata": {},
   "source": [
    "# order in time"
   ]
  },
  {
   "cell_type": "code",
   "execution_count": 34,
   "metadata": {
    "collapsed": true
   },
   "outputs": [],
   "source": [
    "factor = 2."
   ]
  },
  {
   "cell_type": "code",
   "execution_count": 48,
   "metadata": {
    "collapsed": true
   },
   "outputs": [],
   "source": [
    "time_step = 1. * factor**fp.numerix.arange(0, -8, -1)"
   ]
  },
  {
   "cell_type": "code",
   "execution_count": 49,
   "metadata": {
    "collapsed": true
   },
   "outputs": [],
   "source": [
    "Terror2 = []\n",
    "TerrorINF = []"
   ]
  },
  {
   "cell_type": "code",
   "execution_count": 50,
   "metadata": {
    "collapsed": false
   },
   "outputs": [
    {
     "name": "stdout",
     "output_type": "stream",
     "text": [
      "1.0 200.065600351\n",
      "2.0 27.0759362065\n",
      "3.0 0.495913247859\n",
      "1.0 0.000101789518359 0.000344834471523\n",
      "0.5 256.889315852\n",
      "1.0 200.065602286\n",
      "1.5 94.5042994718\n",
      "2.0 27.0759354051\n",
      "2.5 4.70509214885\n",
      "0.5 0.000965852204518 0.00327171036819\n",
      "0.25 241.325179008\n",
      "0.5 256.889317668\n",
      "0.75 241.325180944\n",
      "1.0 200.065602168\n",
      "1.25 146.371121539\n",
      "1.5 94.504299064\n",
      "1.75 53.8469265543\n",
      "2.0 27.0759350962\n",
      "2.25 12.014873391\n",
      "0.25 0.00246640847442 0.00835460729794\n",
      "0.125 223.189305406\n",
      "0.25 241.325180688\n",
      "0.375 252.906617977\n",
      "0.5 256.889317756\n",
      "0.625 252.906618096\n",
      "0.75 241.325180914\n",
      "0.875 223.189307224\n",
      "1.0 200.06560203\n",
      "1.125 173.820007331\n",
      "1.25 146.37112134\n",
      "1.375 119.464627545\n",
      "1.5 94.5042988597\n",
      "1.625 72.4589594008\n",
      "1.75 53.8469263868\n",
      "1.875 38.7844861426\n",
      "2.0 27.0759349818\n",
      "2.125 18.3204940315\n",
      "0.125 0.00376083005371 0.0127392555855\n",
      "0.0625 212.138436628\n",
      "0.125 223.189307002\n",
      "0.1875 232.988494314\n",
      "0.25 241.325180762\n",
      "0.3125 248.014961217\n",
      "0.375 252.906618028\n",
      "0.4375 255.887801227\n",
      "0.5 256.889317779\n",
      "0.5625 255.887801257\n",
      "0.625 252.906618088\n",
      "0.6875 248.014961305\n",
      "0.75 241.325180876\n",
      "0.8125 232.988494451\n",
      "0.875 223.18930716\n",
      "0.9375 212.138438307\n",
      "1.0 200.065601946\n",
      "1.0625 187.211514748\n",
      "1.125 173.820007233\n",
      "1.1875 160.130494379\n",
      "1.25 146.371121236\n",
      "1.3125 132.752842566\n",
      "1.375 119.464627442\n",
      "1.4375 106.669905737\n",
      "1.5 94.5042987626\n",
      "1.5625 83.0746061292\n",
      "1.625 72.458959314\n",
      "1.6875 62.7080026345\n",
      "1.75 53.8469263128\n",
      "1.8125 45.8781547937\n",
      "1.875 38.7844860821\n",
      "1.9375 32.5324832076\n",
      "2.0 27.0759349343\n",
      "2.0625 22.3592269242\n",
      "0.0625 0.00458990356364 0.0155476109026\n",
      "0.03125 206.214884143\n",
      "0.0625 212.138438178\n",
      "0.09375 217.80632693\n",
      "0.125 223.189307045\n",
      "0.15625 228.259070811\n",
      "0.1875 232.988494352\n",
      "0.21875 237.351878491\n",
      "0.25 241.325180796\n",
      "0.28125 244.886235897\n",
      "0.3125 248.014961244\n",
      "0.34375 250.693545634\n",
      "0.375 252.906618049\n",
      "0.40625 254.641394543\n",
      "0.4375 255.88780124\n",
      "0.46875 256.638571761\n",
      "0.5 256.889317784\n",
      "0.53125 256.638571768\n",
      "0.5625 255.887801255\n",
      "0.59375 254.641394566\n",
      "0.625 252.906618079\n",
      "0.65625 250.693545671\n",
      "0.6875 248.014961288\n",
      "0.71875 244.886235948\n",
      "0.75 241.325180853\n",
      "0.78125 237.351878554\n",
      "0.8125 232.988494421\n",
      "0.84375 228.259070885\n",
      "0.875 223.189307124\n",
      "0.90625 217.806327014\n",
      "0.9375 212.138438266\n",
      "0.96875 206.214885739\n",
      "1.0 200.065601901\n",
      "1.03125 193.720957415\n",
      "1.0625 187.2115147\n",
      "1.09375 180.567787235\n",
      "1.125 173.820007183\n",
      "1.15625 166.997903734\n",
      "1.1875 160.130494327\n",
      "1.21875 153.245890666\n",
      "1.25 146.371121184\n",
      "1.28125 139.531971295\n",
      "1.3125 132.752842514\n",
      "1.34375 126.056631199\n",
      "1.375 119.464627391\n",
      "1.40625 112.996433919\n",
      "1.4375 106.669905688\n",
      "1.46875 100.501108773\n",
      "1.5 94.5042987157\n",
      "1.53125 88.6919172012\n",
      "1.5625 83.0746060851\n",
      "1.59375 77.6612375813\n",
      "1.625 72.4589592729\n",
      "1.65625 67.4732525007\n",
      "1.6875 62.7080025967\n",
      "1.71875 58.1655793764\n",
      "1.75 53.8469262783\n",
      "1.78125 49.7516565313\n",
      "1.8125 45.8781547627\n",
      "1.84375 42.223682495\n",
      "1.875 38.7844860544\n",
      "1.90625 35.5559054869\n",
      "1.9375 32.5324831831\n",
      "1.96875 29.7080710157\n",
      "2.0 27.0759349129\n",
      "2.03125 24.6288559178\n",
      "0.03125 0.00505581436274 0.0171258100119\n",
      "0.015625 203.166567854\n",
      "0.03125 206.21488567\n",
      "0.046875 209.206762314\n",
      "0.0625 212.1384382\n",
      "0.078125 215.006187399\n",
      "0.09375 217.806326951\n",
      "0.109375 220.535224697\n",
      "0.125 223.189307066\n",
      "0.140625 225.765066839\n",
      "0.15625 228.259070831\n",
      "0.171875 230.667967488\n",
      "0.1875 232.988494371\n",
      "0.203125 235.217485492\n",
      "0.21875 237.351878507\n",
      "0.234375 239.388721707\n",
      "0.25 241.325180811\n",
      "0.265625 243.158545537\n",
      "0.28125 244.886235911\n",
      "0.296875 246.505808318\n",
      "0.3125 248.014961256\n",
      "0.328125 249.411540784\n",
      "0.34375 250.693545645\n",
      "0.359375 251.859132042\n",
      "0.375 252.906618057\n",
      "0.390625 253.834487698\n",
      "0.40625 254.64139455\n",
      "0.421875 255.326165032\n",
      "0.4375 255.887801245\n",
      "0.453125 256.325483389\n",
      "0.46875 256.638571764\n",
      "0.484375 256.826608322\n",
      "0.5 256.889317786\n",
      "0.515625 256.826608323\n",
      "0.53125 256.638571768\n",
      "0.546875 256.325483395\n",
      "0.5625 255.887801252\n",
      "0.578125 255.326165042\n",
      "0.59375 254.641394561\n",
      "0.609375 253.834487712\n",
      "0.625 252.906618072\n",
      "0.640625 251.859132058\n",
      "0.65625 250.693545663\n",
      "0.671875 249.411540805\n",
      "0.6875 248.014961278\n",
      "0.703125 246.505808342\n",
      "0.71875 244.886235937\n",
      "0.734375 243.158545564\n",
      "0.75 241.32518084\n",
      "0.765625 239.388721737\n",
      "0.78125 237.351878539\n",
      "0.796875 235.217485526\n",
      "0.8125 232.988494405\n",
      "0.828125 230.667967524\n",
      "0.84375 228.259070868\n",
      "0.859375 225.765066877\n",
      "0.875 223.189307105\n",
      "0.890625 220.535224737\n",
      "0.90625 217.806326993\n",
      "0.921875 215.006187442\n",
      "0.9375 212.138438244\n",
      "0.953125 209.206762359\n",
      "0.96875 206.214885716\n",
      "0.984375 203.166569405\n",
      "1.0 200.065601878\n",
      "1.015625 196.915791204\n",
      "1.03125 193.720957391\n",
      "1.046875 190.484924803\n",
      "1.0625 187.211514676\n",
      "1.078125 183.904537777\n",
      "1.09375 180.56778721\n",
      "1.109375 177.205031379\n",
      "1.125 173.820007157\n",
      "1.140625 170.416413236\n",
      "1.15625 166.997903708\n",
      "1.171875 163.568081875\n",
      "1.1875 160.130494301\n",
      "1.203125 156.688625124\n",
      "1.21875 153.24589064\n",
      "1.234375 149.805634159\n",
      "1.25 146.371121158\n",
      "1.265625 142.945534716\n",
      "1.28125 139.531971269\n",
      "1.296875 136.133436656\n",
      "1.3125 132.752842488\n",
      "1.328125 129.393002825\n",
      "1.34375 126.056631174\n",
      "1.359375 122.746337801\n",
      "1.375 119.464627366\n",
      "1.390625 116.213896864\n",
      "1.40625 112.996433894\n",
      "1.421875 109.814415222\n",
      "1.4375 106.669905664\n",
      "1.453125 103.56485726\n",
      "1.46875 100.501108749\n",
      "1.484375 97.4803853286\n",
      "1.5 94.5042986927\n",
      "1.515625 91.5743473465\n",
      "1.53125 88.6919171789\n",
      "1.546875 85.8582822906\n",
      "1.5625 83.0746060636\n",
      "1.578125 80.3419424631\n",
      "1.59375 77.6612375605\n",
      "1.609375 75.033331265\n",
      "1.625 72.458959253\n",
      "1.640625 69.9387550827\n",
      "1.65625 67.4732524816\n",
      "1.671875 65.0628877944\n",
      "1.6875 62.7080025784\n",
      "1.703125 60.4088463341\n",
      "1.71875 58.165579359\n",
      "1.734375 55.9782757095\n",
      "1.75 53.8469262617\n",
      "1.765625 51.7714418562\n",
      "1.78125 49.7516565156\n",
      "1.796875 47.7873307228\n",
      "1.8125 45.8781547478\n",
      "1.828125 44.0237520124\n",
      "1.84375 42.223682481\n",
      "1.859375 40.4774460663\n",
      "1.875 38.7844860411\n",
      "1.890625 37.1441924447\n",
      "1.90625 35.5559054744\n",
      "1.921875 34.0189188544\n",
      "1.9375 32.5324831715\n",
      "1.953125 31.0958091711\n",
      "1.96875 29.7080710048\n",
      "1.984375 28.3684094224\n",
      "2.0 27.0759349027\n",
      "2.015625 25.8297307152\n",
      "0.015625 0.00530233066085 0.0179608449628\n",
      "0.0078125 201.62242787\n",
      "0.015625 203.166569371\n",
      "0.0234375 204.697546257\n",
      "0.03125 206.214885682\n",
      "0.0390625 207.718114763\n",
      "0.046875 209.206762325\n",
      "0.0546875 210.680359149\n",
      "0.0625 212.138438212\n",
      "0.0703125 213.58053493\n",
      "0.078125 215.00618741\n",
      "0.0859375 216.414936684\n",
      "0.09375 217.806326962\n",
      "0.1015625 219.179905873\n",
      "0.109375 220.535224707\n",
      "0.1171875 221.87183866\n",
      "0.125 223.189307076\n",
      "0.1328125 224.487193685\n",
      "0.140625 225.765066848\n",
      "0.1484375 227.022499791\n",
      "0.15625 228.25907084\n",
      "0.1640625 229.474363664\n",
      "0.171875 230.667967497\n",
      "0.1796875 231.83947738\n",
      "0.1875 232.988494379\n",
      "0.1953125 234.114625819\n",
      "0.203125 235.217485501\n",
      "0.2109375 236.296693927\n",
      "0.21875 237.351878516\n",
      "0.2265625 238.382673815\n",
      "0.234375 239.388721714\n",
      "0.2421875 240.369671652\n",
      "0.25 241.325180818\n",
      "0.2578125 242.254914353\n",
      "0.265625 243.158545544\n",
      "0.2734375 244.035756016\n",
      "0.28125 244.886235918\n",
      "0.2890625 245.709684107\n",
      "0.296875 246.505808325\n",
      "0.3046875 247.274325369\n",
      "0.3125 248.014961262\n",
      "0.3203125 248.727451417\n",
      "0.328125 249.41154079\n",
      "0.3359375 250.066984035\n",
      "0.34375 250.69354565\n",
      "0.3515625 251.291000119\n",
      "0.359375 251.859132046\n",
      "0.3671875 252.397736285\n",
      "0.375 252.906618061\n",
      "0.3828125 253.385593094\n",
      "0.390625 253.834487702\n",
      "0.3984375 254.253138911\n",
      "0.40625 254.641394553\n",
      "0.4140625 254.999113357\n",
      "0.421875 255.326165035\n",
      "0.4296875 255.622430362\n",
      "0.4375 255.887801247\n",
      "0.4453125 256.1221808\n",
      "0.453125 256.325483391\n",
      "0.4609375 256.4976347\n",
      "0.46875 256.638571765\n",
      "0.4765625 256.748243019\n",
      "0.484375 256.826608322\n",
      "0.4921875 256.873638985\n",
      "0.5 256.889317786\n",
      "0.5078125 256.873638985\n",
      "0.515625 256.826608323\n",
      "0.5234375 256.748243021\n",
      "0.53125 256.638571767\n",
      "0.5390625 256.497634703\n",
      "0.546875 256.325483394\n",
      "0.5546875 256.122180804\n",
      "0.5625 255.887801251\n",
      "0.5703125 255.622430366\n",
      "0.578125 255.32616504\n",
      "0.5859375 254.999113362\n",
      "0.59375 254.641394559\n",
      "0.6015625 254.253138917\n",
      "0.609375 253.834487709\n",
      "0.6171875 253.385593101\n",
      "0.625 252.906618069\n",
      "0.6328125 252.397736293\n",
      "0.640625 251.859132055\n",
      "0.6484375 251.291000128\n",
      "0.65625 250.693545659\n",
      "0.6640625 250.066984044\n",
      "0.671875 249.4115408\n",
      "0.6796875 248.727451428\n",
      "0.6875 248.014961273\n",
      "0.6953125 247.27432538\n",
      "0.703125 246.505808337\n",
      "0.7109375 245.70968412\n",
      "0.71875 244.886235931\n",
      "0.7265625 244.035756029\n",
      "0.734375 243.158545557\n",
      "0.7421875 242.254914367\n",
      "0.75 241.325180833\n",
      "0.7578125 240.369671667\n",
      "0.765625 239.38872173\n",
      "0.7734375 238.38267383\n",
      "0.78125 237.351878531\n",
      "0.7890625 236.296693943\n",
      "0.796875 235.217485517\n",
      "0.8046875 234.114625836\n",
      "0.8125 232.988494397\n",
      "0.8203125 231.839477398\n",
      "0.828125 230.667967515\n",
      "0.8359375 229.474363682\n",
      "0.84375 228.259070859\n",
      "0.8515625 227.02249981\n",
      "0.859375 225.765066868\n",
      "0.8671875 224.487193705\n",
      "0.875 223.189307096\n",
      "0.8828125 221.87183868\n",
      "0.890625 220.535224727\n",
      "0.8984375 219.179905894\n",
      "0.90625 217.806326983\n",
      "0.9140625 216.414936705\n",
      "0.921875 215.006187431\n",
      "0.9296875 213.580534952\n",
      "0.9375 212.138438234\n",
      "0.9453125 210.680359172\n",
      "0.953125 209.206762348\n",
      "0.9609375 207.718114785\n",
      "0.96875 206.214885705\n",
      "0.9765625 204.69754628\n",
      "0.984375 203.166569394\n",
      "0.9921875 201.622429397\n",
      "1.0 200.065601866\n",
      "1.0078125 198.496563362\n",
      "1.015625 196.915791192\n",
      "1.0234375 195.323763169\n",
      "1.03125 193.720957379\n",
      "1.0390625 192.107851945\n",
      "1.046875 190.484924791\n",
      "1.0546875 188.852653416\n",
      "1.0625 187.211514663\n",
      "1.0703125 185.561984494\n",
      "1.078125 183.904537765\n",
      "1.0859375 182.239648004\n",
      "1.09375 180.567787197\n",
      "1.1015625 178.889425567\n",
      "1.109375 177.205031367\n",
      "1.1171875 175.515070665\n",
      "1.125 173.820007144\n",
      "1.1328125 172.120301896\n",
      "1.140625 170.416413223\n",
      "1.1484375 168.708796442\n",
      "1.15625 166.997903695\n",
      "1.1640625 165.284183759\n",
      "1.171875 163.568081862\n",
      "1.1796875 161.850039506\n",
      "1.1875 160.130494288\n",
      "1.1953125 158.409879729\n",
      "1.203125 156.688625111\n",
      "1.2109375 154.967155306\n",
      "1.21875 153.245890627\n",
      "1.2265625 151.525246665\n",
      "1.234375 149.805634146\n",
      "1.2421875 148.087458786\n",
      "1.25 146.371121145\n",
      "1.2578125 144.657016498\n",
      "1.265625 142.945534703\n",
      "1.2734375 141.237060072\n",
      "1.28125 139.531971256\n",
      "1.2890625 137.83064112\n",
      "1.296875 136.133436643\n",
      "1.3046875 134.440718802\n",
      "1.3125 132.752842475\n",
      "1.3203125 131.070156347\n",
      "1.328125 129.393002812\n",
      "1.3359375 127.721717895\n",
      "1.34375 126.056631161\n",
      "1.3515625 124.398065648\n",
      "1.359375 122.746337789\n",
      "1.3671875 121.101757346\n",
      "1.375 119.464627353\n",
      "1.3828125 117.835244054\n",
      "1.390625 116.213896852\n",
      "1.3984375 114.600868265\n",
      "1.40625 112.996433882\n",
      "1.4140625 111.400862323\n",
      "1.421875 109.81441521\n",
      "1.4296875 108.237347138\n",
      "1.4375 106.669905652\n",
      "1.4453125 105.112331225\n",
      "1.453125 103.564857248\n",
      "1.4609375 102.027710019\n",
      "1.46875 100.501108738\n",
      "1.4765625 98.9852655023\n",
      "1.484375 97.4803853171\n",
      "1.4921875 95.9866660972\n",
      "1.5 94.5042986814\n",
      "1.5078125 93.0334668481\n",
      "1.515625 91.5743473353\n",
      "1.5234375 90.1271098643\n",
      "1.53125 88.6919171679\n",
      "1.5390625 87.2689250218\n",
      "1.546875 85.8582822798\n",
      "1.5546875 84.4601309132\n",
      "1.5625 83.074606053\n",
      "1.5703125 81.7018360356\n",
      "1.578125 80.3419424527\n",
      "1.5859375 78.9950402034\n",
      "1.59375 77.6612375503\n",
      "1.6015625 76.3406361779\n",
      "1.609375 75.033331255\n",
      "1.6171875 73.7394114988\n",
      "1.625 72.4589592431\n",
      "1.6328125 71.1920505081\n",
      "1.640625 69.9387550731\n",
      "1.6484375 68.6991365522\n",
      "1.65625 67.4732524722\n",
      "1.6640625 66.2611543519\n",
      "1.671875 65.0628877852\n",
      "1.6796875 63.8784925249\n",
      "1.6875 62.7080025694\n",
      "1.6953125 61.5514462508\n",
      "1.703125 60.4088463254\n",
      "1.7109375 59.2802200649\n",
      "1.71875 58.1655793504\n",
      "1.7265625 57.0649307672\n",
      "1.734375 55.9782757011\n",
      "1.7421875 54.9056104361\n",
      "1.75 53.8469262535\n",
      "1.7578125 52.8022095319\n",
      "1.765625 51.7714418482\n",
      "1.7734375 50.75460008\n",
      "1.78125 49.7516565079\n",
      "1.7890625 48.7625789199\n",
      "1.796875 47.7873307153\n",
      "1.8046875 46.8258710096\n",
      "1.8125 45.8781547405\n",
      "1.8203125 44.9441327728\n",
      "1.828125 44.0237520053\n",
      "1.8359375 43.1169554772\n",
      "1.84375 42.2236824741\n",
      "1.8515625 41.3438686352\n",
      "1.859375 40.4774460596\n",
      "1.8671875 39.6243434132\n",
      "1.875 38.7844860347\n",
      "1.8828125 37.9577960421\n",
      "1.890625 37.1441924384\n",
      "1.8984375 36.3435912174\n",
      "1.90625 35.5559054683\n",
      "1.9140625 34.7810454808\n",
      "1.921875 34.0189188485\n",
      "1.9296875 33.2694305729\n",
      "1.9375 32.5324831658\n",
      "1.9453125 31.8079767509\n",
      "1.953125 31.0958091656\n",
      "1.9609375 30.3958760605\n",
      "1.96875 29.7080709994\n",
      "1.9765625 29.0322855572\n",
      "1.984375 28.3684094173\n",
      "1.9921875 27.716330468\n",
      "2.0 27.0759348978\n",
      "2.0078125 26.4471072888\n",
      "0.0078125 0.00542906609361 0.0183901411877\n"
     ]
    }
   ],
   "source": [
    "dx = .125\n",
    "for dt in time_step:\n",
    "    mesh = fp.Grid2D(Lx=10., dx=dx, Ly=20., dy=dx)\n",
    "    xx, yy = mesh.cellCenters[0], mesh.cellCenters[1]\n",
    "    XX, YY = mesh.faceCenters[0], mesh.faceCenters[1]\n",
    "\n",
    "    time = fp.Variable(name=\"$t$\", value=0.)\n",
    "\n",
    "    T = fp.CellVariable(mesh=mesh, name=\"$T$\", hasOld=True)\n",
    "    T.value = T_fp(xx, yy, 0.)*0.01\n",
    "    T.constrain(T_fp(XX, YY, time), where=mesh.exteriorFaces)\n",
    "    \n",
    "    eq = (fp.DiffusionTerm(coeff=k_fp(XX, YY, time)) + g_fp(xx, yy, time)\n",
    "          == fp.TransientTerm(coeff=rho_fp(xx, yy, time) * Cp_fp(xx, yy, time)))\n",
    "    \n",
    "    while time.value <= 2.0:\n",
    "        T.updateOld()\n",
    "        time.value = time() + dt\n",
    "        eq.solve(var=T, dt=dt)\n",
    "        print time, max(T)\n",
    "        \n",
    "    dT = T - T_fp(xx, yy, time)\n",
    "    \n",
    "    Terror2.append(fp.numerix.L2norm(dT * mesh.cellVolumes) / fp.numerix.L2norm(mesh.cellVolumes))\n",
    "    TerrorINF.append(fp.numerix.LINFnorm(dT))\n",
    "    \n",
    "    print dt, Terror2[-1], TerrorINF[-1]"
   ]
  },
  {
   "cell_type": "code",
   "execution_count": 51,
   "metadata": {
    "collapsed": true
   },
   "outputs": [],
   "source": [
    "Terror2 = fp.numerix.array(Terror2)\n",
    "TerrorINF = fp.numerix.array(TerrorINF)"
   ]
  },
  {
   "cell_type": "code",
   "execution_count": 52,
   "metadata": {
    "collapsed": false
   },
   "outputs": [
    {
     "data": {
      "text/plain": [
       "array([-3.24621343, -1.3525374 , -0.60863936, -0.28741273, -0.13947965,\n",
       "       -0.06868315, -0.03407741])"
      ]
     },
     "execution_count": 52,
     "metadata": {},
     "output_type": "execute_result"
    }
   ],
   "source": [
    "fp.numerix.log(Terror2[:-1] / Terror2[1:]) / fp.numerix.log(factor)"
   ]
  },
  {
   "cell_type": "code",
   "execution_count": null,
   "metadata": {
    "collapsed": true
   },
   "outputs": [],
   "source": []
  }
 ],
 "metadata": {
  "kernelspec": {
   "display_name": "Python 2",
   "language": "python",
   "name": "python2"
  },
  "language_info": {
   "codemirror_mode": {
    "name": "ipython",
    "version": 2
   },
   "file_extension": ".py",
   "mimetype": "text/x-python",
   "name": "python",
   "nbconvert_exporter": "python",
   "pygments_lexer": "ipython2",
   "version": "2.7.11"
  }
 },
 "nbformat": 4,
 "nbformat_minor": 0
}
