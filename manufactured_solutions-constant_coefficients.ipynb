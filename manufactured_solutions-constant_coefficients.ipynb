{
 "cells": [
  {
   "cell_type": "markdown",
   "metadata": {},
   "source": [
    "Manufactured Solution experiment based on SAND2000 - 1444"
   ]
  },
  {
   "cell_type": "markdown",
   "metadata": {},
   "source": [
    "Test based on heat flux example in SAND2000 - 1444 Section 3"
   ]
  },
  {
   "cell_type": "code",
   "execution_count": 1,
   "metadata": {
    "collapsed": true
   },
   "outputs": [],
   "source": [
    "%matplotlib inline"
   ]
  },
  {
   "cell_type": "code",
   "execution_count": 2,
   "metadata": {
    "collapsed": true
   },
   "outputs": [],
   "source": [
    "import fipy as fp"
   ]
  },
  {
   "cell_type": "code",
   "execution_count": 3,
   "metadata": {
    "collapsed": true
   },
   "outputs": [],
   "source": [
    "from sympy import symbols, sin, exp, sqrt, init_printing"
   ]
  },
  {
   "cell_type": "code",
   "execution_count": 4,
   "metadata": {
    "collapsed": true
   },
   "outputs": [],
   "source": [
    "from sympy import diff, simplify, Eq, lambdify"
   ]
  },
  {
   "cell_type": "code",
   "execution_count": 5,
   "metadata": {
    "collapsed": true
   },
   "outputs": [],
   "source": [
    "init_printing(use_unicode=True)"
   ]
  },
  {
   "cell_type": "code",
   "execution_count": 6,
   "metadata": {
    "collapsed": true
   },
   "outputs": [],
   "source": [
    "x, y, t = symbols('x y t')"
   ]
  },
  {
   "cell_type": "markdown",
   "metadata": {},
   "source": [
    "# symbolic form"
   ]
  },
  {
   "cell_type": "code",
   "execution_count": 7,
   "metadata": {
    "collapsed": true
   },
   "outputs": [],
   "source": [
    "T0, R, t0, k0, rho0, Cp0 = symbols('T0 R t0 k0 rho0 Cp0')"
   ]
  },
  {
   "cell_type": "code",
   "execution_count": 8,
   "metadata": {
    "collapsed": false
   },
   "outputs": [],
   "source": [
    "T_sym = T0 * (1 + sin(x/R)**2 * sin(2*y/R)**2) * exp(t*(t0-t)/t0)"
   ]
  },
  {
   "cell_type": "code",
   "execution_count": 9,
   "metadata": {
    "collapsed": true
   },
   "outputs": [],
   "source": [
    "k_sym = k0 "
   ]
  },
  {
   "cell_type": "code",
   "execution_count": 10,
   "metadata": {
    "collapsed": true
   },
   "outputs": [],
   "source": [
    "rho_sym = rho0 "
   ]
  },
  {
   "cell_type": "code",
   "execution_count": 11,
   "metadata": {
    "collapsed": true
   },
   "outputs": [],
   "source": [
    "Cp_sym = Cp0 "
   ]
  },
  {
   "cell_type": "code",
   "execution_count": 12,
   "metadata": {
    "collapsed": false
   },
   "outputs": [],
   "source": [
    "g_sym = \\\n",
    "simplify(diff(Cp_sym * rho_sym * T_sym, t)\n",
    "         - diff(k_sym * diff(T_sym, x), x) \n",
    "         - diff(k_sym * diff(T_sym, y), y))"
   ]
  },
  {
   "cell_type": "code",
   "execution_count": 13,
   "metadata": {
    "collapsed": false
   },
   "outputs": [
    {
     "data": {
      "text/plain": [
       "T0*(-Cp0*R**2*rho0*(2*t - t0)*(sin(x/R)**2*sin(2*y/R)**2 + 1) + 2*k0*t0*(5*sin(x/R)**2*sin(2*y/R)**2 - 4*sin(x/R)**2*cos(2*y/R)**2 - sin(2*y/R)**2*cos(x/R)**2))*exp(-t*(t - t0)/t0)/(R**2*t0)"
      ]
     },
     "execution_count": 13,
     "metadata": {},
     "output_type": "execute_result"
    }
   ],
   "source": [
    "g_sym"
   ]
  },
  {
   "cell_type": "markdown",
   "metadata": {},
   "source": [
    "# substitute coefficient values"
   ]
  },
  {
   "cell_type": "code",
   "execution_count": 14,
   "metadata": {
    "collapsed": true
   },
   "outputs": [],
   "source": [
    "subs = [(R, 3.33), (T0, 100), (Cp0, 1), (rho0, 0), (k0, 1), (t0, 1)]"
   ]
  },
  {
   "cell_type": "code",
   "execution_count": 15,
   "metadata": {
    "collapsed": true
   },
   "outputs": [],
   "source": [
    "g_sub, T_sub, k_sub, rho_sub, Cp_sub = [sym.subs(subs) for sym in (g_sym, T_sym, k_sym, rho_sym, Cp_sym)]"
   ]
  },
  {
   "cell_type": "markdown",
   "metadata": {},
   "source": [
    "# generate FiPy lambda functions"
   ]
  },
  {
   "cell_type": "code",
   "execution_count": 16,
   "metadata": {
    "collapsed": false
   },
   "outputs": [],
   "source": [
    "g_fp, T_fp, k_fp, rho_fp, Cp_fp = [lambdify((x, y, t), sub, modules=fp.numerix) for sub in (g_sub, T_sub, k_sub, rho_sub, Cp_sub)]"
   ]
  },
  {
   "cell_type": "markdown",
   "metadata": {},
   "source": [
    "# iterate over cell spacings"
   ]
  },
  {
   "cell_type": "code",
   "execution_count": 23,
   "metadata": {
    "collapsed": true
   },
   "outputs": [],
   "source": [
    "grid_spacing = 1. * 2.**fp.numerix.arange(0, -4, -1)"
   ]
  },
  {
   "cell_type": "code",
   "execution_count": 24,
   "metadata": {
    "collapsed": true
   },
   "outputs": [],
   "source": [
    "L2errors = []"
   ]
  },
  {
   "cell_type": "code",
   "execution_count": 25,
   "metadata": {
    "collapsed": true
   },
   "outputs": [],
   "source": [
    "LINFerrors = []"
   ]
  },
  {
   "cell_type": "code",
   "execution_count": 26,
   "metadata": {
    "collapsed": false
   },
   "outputs": [
    {
     "name": "stdout",
     "output_type": "stream",
     "text": [
      "1.0 0.503817557173 1.41167634586\n",
      "0.5 0.120475931053 0.384879487428\n",
      "0.25 0.0297926992543 0.0991875819048\n",
      "0.125 0.00742806245874 0.0251614542358\n"
     ]
    }
   ],
   "source": [
    "for dx in grid_spacing:\n",
    "    mesh = fp.Grid2D(Lx=10., dx=dx, Ly=20., dy=dx)\n",
    "    xx, yy = mesh.cellCenters[0], mesh.cellCenters[1]\n",
    "    XX, YY = mesh.faceCenters[0], mesh.faceCenters[1]\n",
    "\n",
    "    time = fp.Variable(name=\"$t$\", value=0.)\n",
    "\n",
    "    T = fp.CellVariable(mesh=mesh, name=\"$T$\", hasOld=True)\n",
    "    T.value = T_fp(xx, yy, 0.)*0.01\n",
    "    T.constrain(T_fp(XX, YY, time), where=mesh.exteriorFaces)\n",
    "    \n",
    "    eq = (fp.DiffusionTerm(coeff=k_fp(XX, YY, time)) + g_fp(xx, yy, time)\n",
    "          == fp.TransientTerm(coeff=rho_fp(xx, yy, time) * Cp_fp(xx, yy, time)))\n",
    "    \n",
    "    dt = 0.1\n",
    "    \n",
    "    while time.value <= 2.0:\n",
    "        T.updateOld()\n",
    "        eq.solve(var=T, dt=dt)\n",
    "        time.value = time() + dt\n",
    "        \n",
    "    dT = T - T_fp(xx, yy, time - dt)\n",
    "    \n",
    "    L2errors.append(fp.numerix.L2norm(dT * mesh.cellVolumes) / fp.numerix.L2norm(mesh.cellVolumes))\n",
    "    LINFerrors.append(fp.numerix.LINFnorm(dT))\n",
    "    \n",
    "    print dx, L2errors[-1], LINFerrors[-1]"
   ]
  },
  {
   "cell_type": "code",
   "execution_count": 27,
   "metadata": {
    "collapsed": true
   },
   "outputs": [],
   "source": [
    "from matplotlib import pyplot as plt"
   ]
  },
  {
   "cell_type": "code",
   "execution_count": 28,
   "metadata": {
    "collapsed": false
   },
   "outputs": [
    {
     "data": {
      "text/plain": [
       "[<matplotlib.lines.Line2D at 0x10b5948d0>,\n",
       " <matplotlib.lines.Line2D at 0x10b594450>]"
      ]
     },
     "execution_count": 28,
     "metadata": {},
     "output_type": "execute_result"
    },
    {
     "data": {
      "image/png": "[encoded data removed]",
      "text/plain": [
       "<matplotlib.figure.Figure at 0x10b594810>"
      ]
     },
     "metadata": {},
     "output_type": "display_data"
    }
   ],
   "source": [
    "plt.loglog(grid_spacing, L2errors, grid_spacing, LINFerrors)"
   ]
  },
  {
   "cell_type": "code",
   "execution_count": 29,
   "metadata": {
    "collapsed": true
   },
   "outputs": [],
   "source": [
    "L2errors = fp.numerix.array(L2errors)"
   ]
  },
  {
   "cell_type": "code",
   "execution_count": 33,
   "metadata": {
    "collapsed": false
   },
   "outputs": [
    {
     "data": {
      "text/plain": [
       "array([ 0.06415645,  0.01571421,  0.00390099])"
      ]
     },
     "execution_count": 33,
     "metadata": {},
     "output_type": "execute_result"
    }
   ],
   "source": [
    "fp.numerix.log(L2errors[:-1] / L2errors[1:]) / fp.numerix.log(2.) - 2."
   ]
  },
  {
   "cell_type": "code",
   "execution_count": null,
   "metadata": {
    "collapsed": true
   },
   "outputs": [],
   "source": []
  }
 ],
 "metadata": {
  "kernelspec": {
   "display_name": "Python 2",
   "language": "python",
   "name": "python2"
  },
  "language_info": {
   "codemirror_mode": {
    "name": "ipython",
    "version": 2
   },
   "file_extension": ".py",
   "mimetype": "text/x-python",
   "name": "python",
   "nbconvert_exporter": "python",
   "pygments_lexer": "ipython2",
   "version": "2.7.11"
  }
 },
 "nbformat": 4,
 "nbformat_minor": 0
}
