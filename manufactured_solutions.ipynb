{
 "cells": [
  {
   "cell_type": "markdown",
   "metadata": {},
   "source": [
    "Manufactured Solution experiment based on SAND2000 - 1444"
   ]
  },
  {
   "cell_type": "markdown",
   "metadata": {},
   "source": [
    "Test based on heat flux example in SAND2000 - 1444 Section 3"
   ]
  },
  {
   "cell_type": "code",
   "execution_count": 1,
   "metadata": {
    "collapsed": true
   },
   "outputs": [],
   "source": [
    "%matplotlib inline"
   ]
  },
  {
   "cell_type": "code",
   "execution_count": 2,
   "metadata": {
    "collapsed": true
   },
   "outputs": [],
   "source": [
    "import fipy as fp"
   ]
  },
  {
   "cell_type": "code",
   "execution_count": 3,
   "metadata": {
    "collapsed": false
   },
   "outputs": [],
   "source": [
    "from sympy import symbols, sin, exp, sqrt, init_printing"
   ]
  },
  {
   "cell_type": "code",
   "execution_count": 4,
   "metadata": {
    "collapsed": true
   },
   "outputs": [],
   "source": [
    "from sympy import simplify, lambdify "
   ]
  },
  {
   "cell_type": "code",
   "execution_count": 5,
   "metadata": {
    "collapsed": true
   },
   "outputs": [],
   "source": [
    "from sympy.physics.vector import ReferenceFrame, dynamicsymbols, time_derivative, divergence, gradient"
   ]
  },
  {
   "cell_type": "code",
   "execution_count": 6,
   "metadata": {
    "collapsed": true
   },
   "outputs": [],
   "source": [
    "init_printing(use_unicode=True)"
   ]
  },
  {
   "cell_type": "code",
   "execution_count": 7,
   "metadata": {
    "collapsed": true
   },
   "outputs": [],
   "source": [
    "N = ReferenceFrame('N')"
   ]
  },
  {
   "cell_type": "code",
   "execution_count": 8,
   "metadata": {
    "collapsed": true
   },
   "outputs": [],
   "source": [
    "t = symbols('t')"
   ]
  },
  {
   "cell_type": "markdown",
   "metadata": {},
   "source": [
    "# symbolic form"
   ]
  },
  {
   "cell_type": "code",
   "execution_count": 9,
   "metadata": {
    "collapsed": true
   },
   "outputs": [],
   "source": [
    "T0, R, t0, k0, rho0, Cp0 = symbols('T0 R t0 k0 rho0 Cp0')"
   ]
  },
  {
   "cell_type": "code",
   "execution_count": 10,
   "metadata": {
    "collapsed": false
   },
   "outputs": [],
   "source": [
    "T_sym = T0 * (1 + sin(N[0]/R)**2 * sin(2*N[1]/R)**2) * exp(t*(t0-t)/t0)"
   ]
  },
  {
   "cell_type": "code",
   "execution_count": 11,
   "metadata": {
    "collapsed": false
   },
   "outputs": [],
   "source": [
    "k_sym = k0 * (1 + sqrt(N[0]**2 + 2*N[1]**2) / R)"
   ]
  },
  {
   "cell_type": "code",
   "execution_count": 12,
   "metadata": {
    "collapsed": true
   },
   "outputs": [],
   "source": [
    "rho_sym = rho0 * (1 + sqrt(3*N[0]**2 + N[1]**2) / R)"
   ]
  },
  {
   "cell_type": "code",
   "execution_count": 13,
   "metadata": {
    "collapsed": true
   },
   "outputs": [],
   "source": [
    "Cp_sym = Cp0 * (1 + sqrt(2*N[0]**2 + 3*N[1]**2) / R)"
   ]
  },
  {
   "cell_type": "code",
   "execution_count": 15,
   "metadata": {
    "collapsed": false
   },
   "outputs": [],
   "source": [
    "g_sym = \\\n",
    "simplify(time_derivative(Cp_sym * rho_sym * T_sym, N)\n",
    "         - divergence(k_sym * gradient(T_sym, N), N))"
   ]
  },
  {
   "cell_type": "code",
   "execution_count": 16,
   "metadata": {
    "collapsed": false
   },
   "outputs": [
    {
     "data": {
      "image/png": "[encoded data removed]",
      "text/latex": [
       "$$\\frac{T_{0} e^{- \\frac{t}{t_{0}} \\left(t - t_{0}\\right)}}{R^{3} t_{0} \\sqrt{N_{x}^{2} + 2 N_{y}^{2}}} \\left(- Cp_{0} R \\rho_{0} \\sqrt{N_{x}^{2} + 2 N_{y}^{2}} \\left(R + \\sqrt{2 N_{x}^{2} + 3 N_{y}^{2}}\\right) \\left(R + \\sqrt{3 N_{x}^{2} + N_{y}^{2}}\\right) \\left(2 t - t_{0}\\right) \\left(\\sin^{2}{\\left (\\frac{N_{x}}{R} \\right )} \\sin^{2}{\\left (\\frac{2 N_{y}}{R} \\right )} + 1\\right) - 2 R k_{0} t_{0} \\left(N_{x} \\sin{\\left (\\frac{2 N_{y}}{R} \\right )} \\cos{\\left (\\frac{N_{x}}{R} \\right )} + 4 N_{y} \\sin{\\left (\\frac{N_{x}}{R} \\right )} \\cos{\\left (\\frac{2 N_{y}}{R} \\right )}\\right) \\sin{\\left (\\frac{N_{x}}{R} \\right )} \\sin{\\left (\\frac{2 N_{y}}{R} \\right )} + 2 k_{0} t_{0} \\sqrt{N_{x}^{2} + 2 N_{y}^{2}} \\left(R + \\sqrt{N_{x}^{2} + 2 N_{y}^{2}}\\right) \\left(5 \\sin^{2}{\\left (\\frac{N_{x}}{R} \\right )} \\sin^{2}{\\left (\\frac{2 N_{y}}{R} \\right )} - 4 \\sin^{2}{\\left (\\frac{N_{x}}{R} \\right )} \\cos^{2}{\\left (\\frac{2 N_{y}}{R} \\right )} - \\sin^{2}{\\left (\\frac{2 N_{y}}{R} \\right )} \\cos^{2}{\\left (\\frac{N_{x}}{R} \\right )}\\right)\\right)$$"
      ],
      "text/plain": [
       "                                                                              \n",
       "   ⎛              ______________ ⎛       ________________⎞ ⎛       ___________\n",
       "   ⎜             ╱   2        2  ⎜      ╱     2        2 ⎟ ⎜      ╱     2     \n",
       "T₀⋅⎜- Cp₀⋅R⋅ρ₀⋅╲╱  Nₓ  + 2⋅N_y  ⋅⎝R + ╲╱  2⋅Nₓ  + 3⋅N_y  ⎠⋅⎝R + ╲╱  3⋅Nₓ  + N_\n",
       "   ⎝                                                                          \n",
       "──────────────────────────────────────────────────────────────────────────────\n",
       "                                                                              \n",
       "                                                                              \n",
       "                                                                              \n",
       "\n",
       "                                                                              \n",
       "___⎞                                                                          \n",
       " 2 ⎟            ⎛   2⎛Nₓ⎞    2⎛2⋅N_y⎞    ⎞             ⎛      ⎛2⋅N_y⎞    ⎛Nₓ⎞ \n",
       "y  ⎠⋅(2⋅t - t₀)⋅⎜sin ⎜──⎟⋅sin ⎜─────⎟ + 1⎟ - 2⋅R⋅k₀⋅t₀⋅⎜Nₓ⋅sin⎜─────⎟⋅cos⎜──⎟ \n",
       "                ⎝    ⎝R ⎠     ⎝  R  ⎠    ⎠             ⎝      ⎝  R  ⎠    ⎝R ⎠ \n",
       "──────────────────────────────────────────────────────────────────────────────\n",
       "                                                                              \n",
       "                                                                              \n",
       "                                                                              \n",
       "\n",
       "                                                                              \n",
       "                                                            ______________ ⎛  \n",
       "           ⎛Nₓ⎞    ⎛2⋅N_y⎞⎞    ⎛Nₓ⎞    ⎛2⋅N_y⎞             ╱   2        2  ⎜  \n",
       "+ 4⋅N_y⋅sin⎜──⎟⋅cos⎜─────⎟⎟⋅sin⎜──⎟⋅sin⎜─────⎟ + 2⋅k₀⋅t₀⋅╲╱  Nₓ  + 2⋅N_y  ⋅⎝R \n",
       "           ⎝R ⎠    ⎝  R  ⎠⎠    ⎝R ⎠    ⎝  R  ⎠                                \n",
       "──────────────────────────────────────────────────────────────────────────────\n",
       "            ______________                                                    \n",
       "    3      ╱   2        2                                                     \n",
       "   R ⋅t₀⋅╲╱  Nₓ  + 2⋅N_y                                                      \n",
       "\n",
       "                                                                              \n",
       "     ______________⎞                                                          \n",
       "    ╱   2        2 ⎟ ⎛     2⎛Nₓ⎞    2⎛2⋅N_y⎞        2⎛Nₓ⎞    2⎛2⋅N_y⎞      2⎛2\n",
       "+ ╲╱  Nₓ  + 2⋅N_y  ⎠⋅⎜5⋅sin ⎜──⎟⋅sin ⎜─────⎟ - 4⋅sin ⎜──⎟⋅cos ⎜─────⎟ - sin ⎜─\n",
       "                     ⎝      ⎝R ⎠     ⎝  R  ⎠         ⎝R ⎠     ⎝  R  ⎠       ⎝ \n",
       "──────────────────────────────────────────────────────────────────────────────\n",
       "                                                                              \n",
       "                                                                              \n",
       "                                                                              \n",
       "\n",
       "                  -t⋅(t - t₀) \n",
       "               ⎞  ────────────\n",
       "⋅N_y⎞    2⎛Nₓ⎞⎞⎟       t₀     \n",
       "────⎟⋅cos ⎜──⎟⎟⎟⋅ℯ            \n",
       " R  ⎠     ⎝R ⎠⎠⎠              \n",
       "──────────────────────────────\n",
       "                              \n",
       "                              \n",
       "                              "
      ]
     },
     "execution_count": 16,
     "metadata": {},
     "output_type": "execute_result"
    }
   ],
   "source": [
    "g_sym"
   ]
  },
  {
   "cell_type": "markdown",
   "metadata": {},
   "source": [
    "# substitute coefficient values"
   ]
  },
  {
   "cell_type": "code",
   "execution_count": 17,
   "metadata": {
    "collapsed": true
   },
   "outputs": [],
   "source": [
    "subs = [(R, 3.33), (T0, 100), (Cp0, 1), (rho0, 0), (k0, 1), (t0, 1)]"
   ]
  },
  {
   "cell_type": "code",
   "execution_count": 18,
   "metadata": {
    "collapsed": true
   },
   "outputs": [],
   "source": [
    "g_sub, T_sub, k_sub, rho_sub, Cp_sub = [sym.subs(subs) for sym in (g_sym, T_sym, k_sym, rho_sym, Cp_sym)]"
   ]
  },
  {
   "cell_type": "markdown",
   "metadata": {},
   "source": [
    "# generate FiPy lambda functions"
   ]
  },
  {
   "cell_type": "code",
   "execution_count": 19,
   "metadata": {
    "collapsed": false
   },
   "outputs": [],
   "source": [
    "g_fp, T_fp, k_fp, rho_fp, Cp_fp = [lambdify((N[0], N[1], t), sub, modules=fp.numerix) for sub in (g_sub, T_sub, k_sub, rho_sub, Cp_sub)]"
   ]
  },
  {
   "cell_type": "markdown",
   "metadata": {},
   "source": [
    "# order in space"
   ]
  },
  {
   "cell_type": "code",
   "execution_count": 20,
   "metadata": {
    "collapsed": true
   },
   "outputs": [],
   "source": [
    "factor = 2."
   ]
  },
  {
   "cell_type": "code",
   "execution_count": 21,
   "metadata": {
    "collapsed": true
   },
   "outputs": [],
   "source": [
    "grid_spacing = 1. * factor**fp.numerix.arange(0, -4, -1)"
   ]
  },
  {
   "cell_type": "code",
   "execution_count": 22,
   "metadata": {
    "collapsed": true
   },
   "outputs": [],
   "source": [
    "Terror2 = []\n",
    "TerrorINF = []"
   ]
  },
  {
   "cell_type": "code",
   "execution_count": 23,
   "metadata": {
    "collapsed": false
   },
   "outputs": [
    {
     "name": "stdout",
     "output_type": "stream",
     "text": [
      "1.0 0.502526854856 1.40546907733\n",
      "0.5 0.120278992844 0.384425990507\n",
      "0.25 0.0297502075179 0.0991543628278\n",
      "0.125 0.0074178467265 0.0251557644638\n"
     ]
    }
   ],
   "source": [
    "dt = 0.1\n",
    "for dx in grid_spacing:\n",
    "    mesh = fp.Grid2D(Lx=10., dx=dx, Ly=20., dy=dx)\n",
    "    xx, yy = mesh.cellCenters[0], mesh.cellCenters[1]\n",
    "    XX, YY = mesh.faceCenters[0], mesh.faceCenters[1]\n",
    "\n",
    "    time = fp.Variable(name=\"$t$\", value=0.)\n",
    "\n",
    "    T = fp.CellVariable(mesh=mesh, name=\"$T$\", hasOld=True)\n",
    "    T.value = T_fp(xx, yy, 0.)*0.01\n",
    "    T.constrain(T_fp(XX, YY, time), where=mesh.exteriorFaces)\n",
    "    \n",
    "    eq = (fp.DiffusionTerm(coeff=k_fp(XX, YY, time)) + g_fp(xx, yy, time)\n",
    "          == fp.TransientTerm(coeff=rho_fp(xx, yy, time) * Cp_fp(xx, yy, time)))\n",
    "    \n",
    "    while time.value <= 2.0:\n",
    "        T.updateOld()\n",
    "        eq.solve(var=T, dt=dt)\n",
    "        time.value = time() + dt\n",
    "        \n",
    "    dT = T - T_fp(xx, yy, time - dt)\n",
    "    \n",
    "    Terror2.append(fp.numerix.L2norm(dT * mesh.cellVolumes) / fp.numerix.L2norm(mesh.cellVolumes))\n",
    "    TerrorINF.append(fp.numerix.LINFnorm(dT))\n",
    "    \n",
    "    print dx, Terror2[-1], TerrorINF[-1]"
   ]
  },
  {
   "cell_type": "code",
   "execution_count": 24,
   "metadata": {
    "collapsed": true
   },
   "outputs": [],
   "source": [
    "from matplotlib import pyplot as plt"
   ]
  },
  {
   "cell_type": "code",
   "execution_count": 25,
   "metadata": {
    "collapsed": false
   },
   "outputs": [
    {
     "data": {
      "text/plain": [
       "[<matplotlib.lines.Line2D at 0x11439f110>,\n",
       " <matplotlib.lines.Line2D at 0x116860ad0>]"
      ]
     },
     "execution_count": 25,
     "metadata": {},
     "output_type": "execute_result"
    },
    {
     "data": {
      "image/png": "[encoded data removed]",
      "text/plain": [
       "<matplotlib.figure.Figure at 0x114805490>"
      ]
     },
     "metadata": {},
     "output_type": "display_data"
    }
   ],
   "source": [
    "plt.loglog(grid_spacing, Terror2, grid_spacing, TerrorINF)"
   ]
  },
  {
   "cell_type": "code",
   "execution_count": 24,
   "metadata": {
    "collapsed": true
   },
   "outputs": [],
   "source": [
    "Terror2 = fp.numerix.array(Terror2)\n",
    "TerrorINF = fp.numerix.array(TerrorINF)"
   ]
  },
  {
   "cell_type": "code",
   "execution_count": 25,
   "metadata": {
    "collapsed": false
   },
   "outputs": [
    {
     "data": {
      "text/plain": [
       "array([ 0.062816  ,  0.01541306,  0.00382737])"
      ]
     },
     "execution_count": 25,
     "metadata": {},
     "output_type": "execute_result"
    }
   ],
   "source": [
    "fp.numerix.log(Terror2[:-1] / Terror2[1:]) / fp.numerix.log(factor) - 2."
   ]
  },
  {
   "cell_type": "code",
   "execution_count": 26,
   "metadata": {
    "collapsed": false
   },
   "outputs": [
    {
     "data": {
      "text/plain": [
       "array([-0.12972607, -0.04504228, -0.02121278])"
      ]
     },
     "execution_count": 26,
     "metadata": {},
     "output_type": "execute_result"
    }
   ],
   "source": [
    "fp.numerix.log(TerrorINF[:-1] / TerrorINF[1:]) / fp.numerix.log(factor) - 2."
   ]
  },
  {
   "cell_type": "markdown",
   "metadata": {},
   "source": [
    "# order in time"
   ]
  },
  {
   "cell_type": "code",
   "execution_count": 26,
   "metadata": {
    "collapsed": true
   },
   "outputs": [],
   "source": [
    "factor = 2."
   ]
  },
  {
   "cell_type": "code",
   "execution_count": 53,
   "metadata": {
    "collapsed": true
   },
   "outputs": [],
   "source": [
    "time_step = 1. * factor**fp.numerix.arange(0, -12, -1)"
   ]
  },
  {
   "cell_type": "code",
   "execution_count": 54,
   "metadata": {
    "collapsed": true
   },
   "outputs": [],
   "source": [
    "Terror2 = []\n",
    "Terror2plus = []\n",
    "Terror2minus = []\n",
    "TerrorINF = []"
   ]
  },
  {
   "cell_type": "code",
   "execution_count": 55,
   "metadata": {
    "collapsed": false
   },
   "outputs": [
    {
     "name": "stdout",
     "output_type": "stream",
     "text": [
      "1.0 0.00164841471651 0.00526852961683\n",
      "0.5 0.0156397224825 0.0499864160107\n",
      "0.25 0.0399374302905 0.127644784759\n",
      "0.125 0.0608973089516 0.194635053911\n",
      "0.0625 0.0743220543026 0.237542139342\n",
      "0.03125 0.0818662995118 0.261654445778\n",
      "0.015625 0.0858580065104 0.274412416878\n",
      "0.0078125 0.0879101658157 0.280971362491\n",
      "0.00390625 0.088950494768 0.284296377757\n",
      "0.001953125 0.0894742429413 0.285970339314\n",
      "0.0009765625 0.0897370156085 0.286810192062\n",
      "0.00048828125 0.0898686269182 0.287230837487\n"
     ]
    }
   ],
   "source": [
    "dx = 0.5\n",
    "for dt in time_step:\n",
    "    mesh = fp.Grid2D(Lx=10., dx=dx, Ly=20., dy=dx)\n",
    "    xx, yy = mesh.cellCenters[0], mesh.cellCenters[1]\n",
    "    XX, YY = mesh.faceCenters[0], mesh.faceCenters[1]\n",
    "\n",
    "    time = fp.Variable(name=\"$t$\", value=0.)\n",
    "\n",
    "    T = fp.CellVariable(mesh=mesh, name=\"$T$\", hasOld=True)\n",
    "    T.value = T_fp(xx, yy, 0.)*0.01\n",
    "    T.constrain(T_fp(XX, YY, time), where=mesh.exteriorFaces)\n",
    "    \n",
    "    eq = (fp.DiffusionTerm(coeff=k_fp(XX, YY, time)) + g_fp(xx, yy, time)\n",
    "          == fp.TransientTerm(coeff=rho_fp(xx, yy, time) * Cp_fp(xx, yy, time)))\n",
    "    \n",
    "    while time.value <= 2.0:\n",
    "        T.updateOld()\n",
    "        time.value = time() + dt\n",
    "        eq.solve(var=T, dt=dt)\n",
    "        \n",
    "    dT = T - T_fp(xx, yy, time)\n",
    "    dTplus = T - T_fp(xx, yy, time + dt)\n",
    "    dTminus = T - T_fp(xx, yy, time - dt)\n",
    "\n",
    "    Terror2.append(fp.numerix.L2norm(dT * mesh.cellVolumes) / fp.numerix.L2norm(mesh.cellVolumes))\n",
    "    Terror2plus.append(fp.numerix.L2norm(dTplus * mesh.cellVolumes) / fp.numerix.L2norm(mesh.cellVolumes))\n",
    "    Terror2minus.append(fp.numerix.L2norm(dTminus * mesh.cellVolumes) / fp.numerix.L2norm(mesh.cellVolumes))\n",
    "    TerrorINF.append(fp.numerix.LINFnorm(dT))\n",
    "    \n",
    "    print dt, Terror2[-1], TerrorINF[-1]"
   ]
  },
  {
   "cell_type": "code",
   "execution_count": 56,
   "metadata": {
    "collapsed": true
   },
   "outputs": [],
   "source": [
    "Terror2 = fp.numerix.array(Terror2)\n",
    "TerrorINF = fp.numerix.array(TerrorINF)"
   ]
  },
  {
   "cell_type": "code",
   "execution_count": 57,
   "metadata": {
    "collapsed": false
   },
   "outputs": [
    {
     "data": {
      "text/plain": [
       "array([ -3.24606376e+00,  -1.35252659e+00,  -6.08636969e-01,\n",
       "        -2.87411902e-01,  -1.39479306e-01,  -6.86829914e-02,\n",
       "        -3.40773303e-02,  -1.69726238e-02,  -8.46980158e-03,\n",
       "        -4.23077321e-03,  -2.11435471e-03])"
      ]
     },
     "execution_count": 57,
     "metadata": {},
     "output_type": "execute_result"
    }
   ],
   "source": [
    "fp.numerix.log(Terror2[:-1] / Terror2[1:]) / fp.numerix.log(factor)"
   ]
  },
  {
   "cell_type": "code",
   "execution_count": 60,
   "metadata": {
    "collapsed": false
   },
   "outputs": [
    {
     "data": {
      "text/plain": [
       "array([ -3.24606381e+00,  -1.35252660e+00,  -6.08636970e-01,\n",
       "        -2.87411902e-01,  -1.39479306e-01,  -6.86829914e-02,\n",
       "        -3.40773304e-02,  -1.69726238e-02,  -8.46980159e-03,\n",
       "        -4.23077321e-03,  -2.11435471e-03])"
      ]
     },
     "execution_count": 60,
     "metadata": {},
     "output_type": "execute_result"
    }
   ],
   "source": [
    "fp.numerix.log(TerrorINF[:-1] / TerrorINF[1:]) / fp.numerix.log(factor)"
   ]
  },
  {
   "cell_type": "code",
   "execution_count": 58,
   "metadata": {
    "collapsed": false
   },
   "outputs": [
    {
     "data": {
      "text/plain": [
       "array([-3.08892517, -0.79613564,  0.21351646,  0.64322413,  0.83163779,\n",
       "        0.91555214,  0.94165773,  0.89891155,  0.71682973,  0.3914423 ,\n",
       "        0.1343695 ])"
      ]
     },
     "execution_count": 58,
     "metadata": {},
     "output_type": "execute_result"
    }
   ],
   "source": [
    "Terror2plus = fp.numerix.array(Terror2plus)\n",
    "fp.numerix.log(Terror2plus[:-1] / Terror2plus[1:]) / fp.numerix.log(factor)"
   ]
  },
  {
   "cell_type": "code",
   "execution_count": 59,
   "metadata": {
    "collapsed": false
   },
   "outputs": [
    {
     "data": {
      "text/plain": [
       "array([ 0.24865589,  0.5705829 ,  0.78205615,  0.89115043,  0.94342183,\n",
       "        0.9638149 ,  0.95563126,  0.89174251,  0.70668251,  0.40294133,\n",
       "        0.15755041])"
      ]
     },
     "execution_count": 59,
     "metadata": {},
     "output_type": "execute_result"
    }
   ],
   "source": [
    "Terror2minus = fp.numerix.array(Terror2minus)\n",
    "fp.numerix.log(Terror2minus[:-1] / Terror2minus[1:]) / fp.numerix.log(factor)"
   ]
  },
  {
   "cell_type": "code",
   "execution_count": null,
   "metadata": {
    "collapsed": true
   },
   "outputs": [],
   "source": []
  }
 ],
 "metadata": {
  "kernelspec": {
   "display_name": "Python 2",
   "language": "python",
   "name": "python2"
  },
  "language_info": {
   "codemirror_mode": {
    "name": "ipython",
    "version": 2
   },
   "file_extension": ".py",
   "mimetype": "text/x-python",
   "name": "python",
   "nbconvert_exporter": "python",
   "pygments_lexer": "ipython2",
   "version": "2.7.12"
  }
 },
 "nbformat": 4,
 "nbformat_minor": 0
}
